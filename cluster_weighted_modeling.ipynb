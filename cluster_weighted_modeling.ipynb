{
 "cells": [
  {
   "cell_type": "code",
   "execution_count": 1,
   "metadata": {
    "collapsed": true
   },
   "outputs": [],
   "source": [
    "import pandas as pd\n",
    "import numpy as np\n",
    "from OWCK import OWCK\n",
    "from sklearn.model_selection import train_test_split"
   ]
  },
  {
   "cell_type": "code",
   "execution_count": 2,
   "metadata": {
    "collapsed": true
   },
   "outputs": [],
   "source": [
    "df = pd.read_csv('wishful_thinking.csv')"
   ]
  },
  {
   "cell_type": "code",
   "execution_count": 3,
   "metadata": {},
   "outputs": [
    {
     "data": {
      "text/html": [
       "<div>\n",
       "<style>\n",
       "    .dataframe thead tr:only-child th {\n",
       "        text-align: right;\n",
       "    }\n",
       "\n",
       "    .dataframe thead th {\n",
       "        text-align: left;\n",
       "    }\n",
       "\n",
       "    .dataframe tbody tr th {\n",
       "        vertical-align: top;\n",
       "    }\n",
       "</style>\n",
       "<table border=\"1\" class=\"dataframe\">\n",
       "  <thead>\n",
       "    <tr style=\"text-align: right;\">\n",
       "      <th></th>\n",
       "      <th>Unnamed: 0</th>\n",
       "      <th>event</th>\n",
       "      <th>begin</th>\n",
       "      <th>max</th>\n",
       "      <th>end</th>\n",
       "      <th>obs</th>\n",
       "      <th>q</th>\n",
       "      <th>type</th>\n",
       "      <th>loc</th>\n",
       "      <th>freq</th>\n",
       "      <th>...</th>\n",
       "      <th>date</th>\n",
       "      <th>yes_no</th>\n",
       "      <th>duration</th>\n",
       "      <th>del_begin_max</th>\n",
       "      <th>del_end_max</th>\n",
       "      <th>closer_begin_end</th>\n",
       "      <th>flare_event</th>\n",
       "      <th>last_event_time</th>\n",
       "      <th>t_since_last_event</th>\n",
       "      <th>datetime</th>\n",
       "    </tr>\n",
       "  </thead>\n",
       "  <tbody>\n",
       "    <tr>\n",
       "      <th>0</th>\n",
       "      <td>0</td>\n",
       "      <td>2310</td>\n",
       "      <td>00:07:00</td>\n",
       "      <td>1900-01-01 00:13:00</td>\n",
       "      <td>1900-01-01 00:20:00</td>\n",
       "      <td>GO8</td>\n",
       "      <td>5</td>\n",
       "      <td>1</td>\n",
       "      <td>1-8A</td>\n",
       "      <td>C1.2</td>\n",
       "      <td>...</td>\n",
       "      <td>2001-01-01 00:00:00</td>\n",
       "      <td>1.0</td>\n",
       "      <td>13</td>\n",
       "      <td>6</td>\n",
       "      <td>7.0</td>\n",
       "      <td>0.0</td>\n",
       "      <td>0</td>\n",
       "      <td>2001-01-01 00:07:00</td>\n",
       "      <td>0 days 00:00:00.000000000</td>\n",
       "      <td>978336420.0</td>\n",
       "    </tr>\n",
       "    <tr>\n",
       "      <th>1</th>\n",
       "      <td>1</td>\n",
       "      <td>2470</td>\n",
       "      <td>00:46:00</td>\n",
       "      <td>NaN</td>\n",
       "      <td>1900-01-01 00:46:00</td>\n",
       "      <td>CUL</td>\n",
       "      <td>C</td>\n",
       "      <td>2</td>\n",
       "      <td>40-100</td>\n",
       "      <td>III/1</td>\n",
       "      <td>...</td>\n",
       "      <td>2001-01-01 00:00:00</td>\n",
       "      <td>1.0</td>\n",
       "      <td>0</td>\n",
       "      <td>0</td>\n",
       "      <td>0.0</td>\n",
       "      <td>0.0</td>\n",
       "      <td>0</td>\n",
       "      <td>2001-01-01 00:46:00</td>\n",
       "      <td>0 days 00:00:00.000000000</td>\n",
       "      <td>978338760.0</td>\n",
       "    </tr>\n",
       "    <tr>\n",
       "      <th>2</th>\n",
       "      <td>2</td>\n",
       "      <td>2320</td>\n",
       "      <td>01:18:00</td>\n",
       "      <td>1900-01-01 01:21:00</td>\n",
       "      <td>1900-01-01 01:27:00</td>\n",
       "      <td>GO8</td>\n",
       "      <td>5</td>\n",
       "      <td>1</td>\n",
       "      <td>1-8A</td>\n",
       "      <td>C1.0</td>\n",
       "      <td>...</td>\n",
       "      <td>2001-01-01 00:00:00</td>\n",
       "      <td>1.0</td>\n",
       "      <td>9</td>\n",
       "      <td>3</td>\n",
       "      <td>6.0</td>\n",
       "      <td>0.0</td>\n",
       "      <td>0</td>\n",
       "      <td>2001-01-01 01:18:00</td>\n",
       "      <td>0 days 00:00:00.000000000</td>\n",
       "      <td>978340680.0</td>\n",
       "    </tr>\n",
       "    <tr>\n",
       "      <th>3</th>\n",
       "      <td>3</td>\n",
       "      <td>2350</td>\n",
       "      <td>03:22:00</td>\n",
       "      <td>1900-01-01 03:34:00</td>\n",
       "      <td>1900-01-01 06:00:00</td>\n",
       "      <td>LEA</td>\n",
       "      <td>G</td>\n",
       "      <td>3</td>\n",
       "      <td>245</td>\n",
       "      <td>68</td>\n",
       "      <td>...</td>\n",
       "      <td>2001-01-01 00:00:00</td>\n",
       "      <td>1.0</td>\n",
       "      <td>158</td>\n",
       "      <td>12</td>\n",
       "      <td>146.0</td>\n",
       "      <td>0.0</td>\n",
       "      <td>0</td>\n",
       "      <td>2001-01-01 03:22:00</td>\n",
       "      <td>0 days 00:00:00.000000000</td>\n",
       "      <td>978348120.0</td>\n",
       "    </tr>\n",
       "    <tr>\n",
       "      <th>4</th>\n",
       "      <td>4</td>\n",
       "      <td>2330</td>\n",
       "      <td>03:39:00</td>\n",
       "      <td>1900-01-01 03:39:00</td>\n",
       "      <td>1900-01-01 03:39:00</td>\n",
       "      <td>PAL</td>\n",
       "      <td>G</td>\n",
       "      <td>16</td>\n",
       "      <td>245</td>\n",
       "      <td>52</td>\n",
       "      <td>...</td>\n",
       "      <td>2001-01-01 00:00:00</td>\n",
       "      <td>1.0</td>\n",
       "      <td>0</td>\n",
       "      <td>0</td>\n",
       "      <td>0.0</td>\n",
       "      <td>0.0</td>\n",
       "      <td>0</td>\n",
       "      <td>2001-01-01 03:39:00</td>\n",
       "      <td>0 days 00:00:00.000000000</td>\n",
       "      <td>978349140.0</td>\n",
       "    </tr>\n",
       "  </tbody>\n",
       "</table>\n",
       "<p>5 rows × 22 columns</p>\n",
       "</div>"
      ],
      "text/plain": [
       "   Unnamed: 0 event     begin                  max                  end  obs  \\\n",
       "0           0  2310  00:07:00  1900-01-01 00:13:00  1900-01-01 00:20:00  GO8   \n",
       "1           1  2470  00:46:00                  NaN  1900-01-01 00:46:00  CUL   \n",
       "2           2  2320  01:18:00  1900-01-01 01:21:00  1900-01-01 01:27:00  GO8   \n",
       "3           3  2350  03:22:00  1900-01-01 03:34:00  1900-01-01 06:00:00  LEA   \n",
       "4           4  2330  03:39:00  1900-01-01 03:39:00  1900-01-01 03:39:00  PAL   \n",
       "\n",
       "   q  type     loc   freq     ...                      date  yes_no duration  \\\n",
       "0  5     1    1-8A   C1.2     ...       2001-01-01 00:00:00     1.0       13   \n",
       "1  C     2  40-100  III/1     ...       2001-01-01 00:00:00     1.0        0   \n",
       "2  5     1    1-8A   C1.0     ...       2001-01-01 00:00:00     1.0        9   \n",
       "3  G     3     245     68     ...       2001-01-01 00:00:00     1.0      158   \n",
       "4  G    16     245     52     ...       2001-01-01 00:00:00     1.0        0   \n",
       "\n",
       "   del_begin_max  del_end_max  closer_begin_end  flare_event  \\\n",
       "0              6          7.0               0.0            0   \n",
       "1              0          0.0               0.0            0   \n",
       "2              3          6.0               0.0            0   \n",
       "3             12        146.0               0.0            0   \n",
       "4              0          0.0               0.0            0   \n",
       "\n",
       "       last_event_time         t_since_last_event     datetime  \n",
       "0  2001-01-01 00:07:00  0 days 00:00:00.000000000  978336420.0  \n",
       "1  2001-01-01 00:46:00  0 days 00:00:00.000000000  978338760.0  \n",
       "2  2001-01-01 01:18:00  0 days 00:00:00.000000000  978340680.0  \n",
       "3  2001-01-01 03:22:00  0 days 00:00:00.000000000  978348120.0  \n",
       "4  2001-01-01 03:39:00  0 days 00:00:00.000000000  978349140.0  \n",
       "\n",
       "[5 rows x 22 columns]"
      ]
     },
     "execution_count": 3,
     "metadata": {},
     "output_type": "execute_result"
    }
   ],
   "source": [
    "df.head()"
   ]
  },
  {
   "cell_type": "code",
   "execution_count": 4,
   "metadata": {},
   "outputs": [],
   "source": [
    "X = df[['yes_no', 'duration', 'type', 'datetime']].values"
   ]
  },
  {
   "cell_type": "code",
   "execution_count": 5,
   "metadata": {
    "collapsed": true
   },
   "outputs": [],
   "source": [
    "y = df['flare_event'].values"
   ]
  },
  {
   "cell_type": "code",
   "execution_count": 6,
   "metadata": {},
   "outputs": [],
   "source": [
    "X_train, X_test, y_train, y_test = train_test_split(X, y, test_size=0.20, random_state=42)"
   ]
  },
  {
   "cell_type": "code",
   "execution_count": 7,
   "metadata": {},
   "outputs": [],
   "source": [
    "?OWCK()"
   ]
  },
  {
   "cell_type": "code",
   "execution_count": null,
   "metadata": {
    "collapsed": true
   },
   "outputs": [],
   "source": [
    "owck_model = OWCK(cluster_method='random', n_cluster=2)\n",
    "owck_model.fit(X_train,y_train)\n"
   ]
  },
  {
   "cell_type": "code",
   "execution_count": null,
   "metadata": {
    "collapsed": true
   },
   "outputs": [],
   "source": [
    "pred_y, var_y = owck_model.predict(x_test)"
   ]
  },
  {
   "cell_type": "code",
   "execution_count": null,
   "metadata": {
    "collapsed": true
   },
   "outputs": [],
   "source": []
  }
 ],
 "metadata": {
  "kernelspec": {
   "display_name": "Python 2",
   "language": "python",
   "name": "python2"
  },
  "language_info": {
   "codemirror_mode": {
    "name": "ipython",
    "version": 2
   },
   "file_extension": ".py",
   "mimetype": "text/x-python",
   "name": "python",
   "nbconvert_exporter": "python",
   "pygments_lexer": "ipython2",
   "version": "2.7.13"
  }
 },
 "nbformat": 4,
 "nbformat_minor": 2
}
