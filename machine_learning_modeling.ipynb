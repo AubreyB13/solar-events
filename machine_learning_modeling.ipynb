{
 "cells": [
  {
   "cell_type": "markdown",
   "metadata": {},
   "source": [
    "# Machine Learning Modeling"
   ]
  },
  {
   "cell_type": "code",
   "execution_count": 45,
   "metadata": {
    "collapsed": false,
    "deletable": true,
    "editable": true,
    "scrolled": true
   },
   "outputs": [],
   "source": [
    "import pandas as pd\n",
    "import numpy as np\n",
    "from sklearn.model_selection import train_test_split\n",
    "from sklearn.cluster import KMeans\n",
    "from sklearn.ensemble import RandomForestClassifier\n",
    "from sklearn import svm\n",
    "import itertools\n",
    "from sklearn.metrics import accuracy_score, auc, f1_score, precision_score, recall_score, roc_curve, confusion_matrix\n",
    "import matplotlib.pyplot as plt\n",
    "%matplotlib inline"
   ]
  },
  {
   "cell_type": "code",
   "execution_count": 2,
   "metadata": {
    "collapsed": true,
    "deletable": true,
    "editable": true
   },
   "outputs": [],
   "source": [
    "df = pd.read_csv('wishful_thinking.csv')"
   ]
  },
  {
   "cell_type": "code",
   "execution_count": 3,
   "metadata": {
    "collapsed": false,
    "deletable": true,
    "editable": true
   },
   "outputs": [
    {
     "data": {
      "text/html": [
       "<div>\n",
       "<table border=\"1\" class=\"dataframe\">\n",
       "  <thead>\n",
       "    <tr style=\"text-align: right;\">\n",
       "      <th></th>\n",
       "      <th>Unnamed: 0</th>\n",
       "      <th>event</th>\n",
       "      <th>begin</th>\n",
       "      <th>max</th>\n",
       "      <th>end</th>\n",
       "      <th>obs</th>\n",
       "      <th>q</th>\n",
       "      <th>type</th>\n",
       "      <th>loc</th>\n",
       "      <th>freq</th>\n",
       "      <th>...</th>\n",
       "      <th>date</th>\n",
       "      <th>yes_no</th>\n",
       "      <th>duration</th>\n",
       "      <th>del_begin_max</th>\n",
       "      <th>del_end_max</th>\n",
       "      <th>closer_begin_end</th>\n",
       "      <th>flare_event</th>\n",
       "      <th>last_event_time</th>\n",
       "      <th>t_since_last_event</th>\n",
       "      <th>datetime</th>\n",
       "    </tr>\n",
       "  </thead>\n",
       "  <tbody>\n",
       "    <tr>\n",
       "      <th>0</th>\n",
       "      <td>0</td>\n",
       "      <td>2310</td>\n",
       "      <td>00:07:00</td>\n",
       "      <td>1900-01-01 00:13:00</td>\n",
       "      <td>1900-01-01 00:20:00</td>\n",
       "      <td>GO8</td>\n",
       "      <td>5</td>\n",
       "      <td>1</td>\n",
       "      <td>1-8A</td>\n",
       "      <td>C1.2</td>\n",
       "      <td>...</td>\n",
       "      <td>2001-01-01 00:00:00</td>\n",
       "      <td>1.0</td>\n",
       "      <td>13</td>\n",
       "      <td>6</td>\n",
       "      <td>7.0</td>\n",
       "      <td>0.0</td>\n",
       "      <td>0</td>\n",
       "      <td>2001-01-01 00:07:00</td>\n",
       "      <td>0 days 00:00:00.000000000</td>\n",
       "      <td>978336420.0</td>\n",
       "    </tr>\n",
       "    <tr>\n",
       "      <th>1</th>\n",
       "      <td>1</td>\n",
       "      <td>2470</td>\n",
       "      <td>00:46:00</td>\n",
       "      <td>NaN</td>\n",
       "      <td>1900-01-01 00:46:00</td>\n",
       "      <td>CUL</td>\n",
       "      <td>C</td>\n",
       "      <td>2</td>\n",
       "      <td>40-100</td>\n",
       "      <td>III/1</td>\n",
       "      <td>...</td>\n",
       "      <td>2001-01-01 00:00:00</td>\n",
       "      <td>1.0</td>\n",
       "      <td>0</td>\n",
       "      <td>0</td>\n",
       "      <td>0.0</td>\n",
       "      <td>0.0</td>\n",
       "      <td>0</td>\n",
       "      <td>2001-01-01 00:46:00</td>\n",
       "      <td>0 days 00:00:00.000000000</td>\n",
       "      <td>978338760.0</td>\n",
       "    </tr>\n",
       "    <tr>\n",
       "      <th>2</th>\n",
       "      <td>2</td>\n",
       "      <td>2320</td>\n",
       "      <td>01:18:00</td>\n",
       "      <td>1900-01-01 01:21:00</td>\n",
       "      <td>1900-01-01 01:27:00</td>\n",
       "      <td>GO8</td>\n",
       "      <td>5</td>\n",
       "      <td>1</td>\n",
       "      <td>1-8A</td>\n",
       "      <td>C1.0</td>\n",
       "      <td>...</td>\n",
       "      <td>2001-01-01 00:00:00</td>\n",
       "      <td>1.0</td>\n",
       "      <td>9</td>\n",
       "      <td>3</td>\n",
       "      <td>6.0</td>\n",
       "      <td>0.0</td>\n",
       "      <td>0</td>\n",
       "      <td>2001-01-01 01:18:00</td>\n",
       "      <td>0 days 00:00:00.000000000</td>\n",
       "      <td>978340680.0</td>\n",
       "    </tr>\n",
       "    <tr>\n",
       "      <th>3</th>\n",
       "      <td>3</td>\n",
       "      <td>2350</td>\n",
       "      <td>03:22:00</td>\n",
       "      <td>1900-01-01 03:34:00</td>\n",
       "      <td>1900-01-01 06:00:00</td>\n",
       "      <td>LEA</td>\n",
       "      <td>G</td>\n",
       "      <td>3</td>\n",
       "      <td>245</td>\n",
       "      <td>68</td>\n",
       "      <td>...</td>\n",
       "      <td>2001-01-01 00:00:00</td>\n",
       "      <td>1.0</td>\n",
       "      <td>158</td>\n",
       "      <td>12</td>\n",
       "      <td>146.0</td>\n",
       "      <td>0.0</td>\n",
       "      <td>0</td>\n",
       "      <td>2001-01-01 03:22:00</td>\n",
       "      <td>0 days 00:00:00.000000000</td>\n",
       "      <td>978348120.0</td>\n",
       "    </tr>\n",
       "    <tr>\n",
       "      <th>4</th>\n",
       "      <td>4</td>\n",
       "      <td>2330</td>\n",
       "      <td>03:39:00</td>\n",
       "      <td>1900-01-01 03:39:00</td>\n",
       "      <td>1900-01-01 03:39:00</td>\n",
       "      <td>PAL</td>\n",
       "      <td>G</td>\n",
       "      <td>16</td>\n",
       "      <td>245</td>\n",
       "      <td>52</td>\n",
       "      <td>...</td>\n",
       "      <td>2001-01-01 00:00:00</td>\n",
       "      <td>1.0</td>\n",
       "      <td>0</td>\n",
       "      <td>0</td>\n",
       "      <td>0.0</td>\n",
       "      <td>0.0</td>\n",
       "      <td>0</td>\n",
       "      <td>2001-01-01 03:39:00</td>\n",
       "      <td>0 days 00:00:00.000000000</td>\n",
       "      <td>978349140.0</td>\n",
       "    </tr>\n",
       "  </tbody>\n",
       "</table>\n",
       "<p>5 rows × 22 columns</p>\n",
       "</div>"
      ],
      "text/plain": [
       "   Unnamed: 0 event     begin                  max                  end  obs  \\\n",
       "0           0  2310  00:07:00  1900-01-01 00:13:00  1900-01-01 00:20:00  GO8   \n",
       "1           1  2470  00:46:00                  NaN  1900-01-01 00:46:00  CUL   \n",
       "2           2  2320  01:18:00  1900-01-01 01:21:00  1900-01-01 01:27:00  GO8   \n",
       "3           3  2350  03:22:00  1900-01-01 03:34:00  1900-01-01 06:00:00  LEA   \n",
       "4           4  2330  03:39:00  1900-01-01 03:39:00  1900-01-01 03:39:00  PAL   \n",
       "\n",
       "   q  type     loc   freq     ...                      date  yes_no duration  \\\n",
       "0  5     1    1-8A   C1.2     ...       2001-01-01 00:00:00     1.0       13   \n",
       "1  C     2  40-100  III/1     ...       2001-01-01 00:00:00     1.0        0   \n",
       "2  5     1    1-8A   C1.0     ...       2001-01-01 00:00:00     1.0        9   \n",
       "3  G     3     245     68     ...       2001-01-01 00:00:00     1.0      158   \n",
       "4  G    16     245     52     ...       2001-01-01 00:00:00     1.0        0   \n",
       "\n",
       "   del_begin_max  del_end_max  closer_begin_end  flare_event  \\\n",
       "0              6          7.0               0.0            0   \n",
       "1              0          0.0               0.0            0   \n",
       "2              3          6.0               0.0            0   \n",
       "3             12        146.0               0.0            0   \n",
       "4              0          0.0               0.0            0   \n",
       "\n",
       "       last_event_time         t_since_last_event     datetime  \n",
       "0  2001-01-01 00:07:00  0 days 00:00:00.000000000  978336420.0  \n",
       "1  2001-01-01 00:46:00  0 days 00:00:00.000000000  978338760.0  \n",
       "2  2001-01-01 01:18:00  0 days 00:00:00.000000000  978340680.0  \n",
       "3  2001-01-01 03:22:00  0 days 00:00:00.000000000  978348120.0  \n",
       "4  2001-01-01 03:39:00  0 days 00:00:00.000000000  978349140.0  \n",
       "\n",
       "[5 rows x 22 columns]"
      ]
     },
     "execution_count": 3,
     "metadata": {},
     "output_type": "execute_result"
    }
   ],
   "source": [
    "df.head()"
   ]
  },
  {
   "cell_type": "code",
   "execution_count": 4,
   "metadata": {
    "collapsed": true,
    "deletable": true,
    "editable": true
   },
   "outputs": [],
   "source": [
    "X = df[['yes_no','duration', 'del_begin_max','del_end_max', 'closer_begin_end', 'datetime' ]].values"
   ]
  },
  {
   "cell_type": "code",
   "execution_count": 5,
   "metadata": {
    "collapsed": true,
    "deletable": true,
    "editable": true
   },
   "outputs": [],
   "source": [
    "y = df['type'].values"
   ]
  },
  {
   "cell_type": "code",
   "execution_count": 6,
   "metadata": {
    "collapsed": true,
    "deletable": true,
    "editable": true
   },
   "outputs": [],
   "source": [
    "y2 = df['flare_event'].values"
   ]
  },
  {
   "cell_type": "code",
   "execution_count": 7,
   "metadata": {
    "collapsed": true,
    "deletable": true,
    "editable": true
   },
   "outputs": [],
   "source": [
    "X_train, X_test, y_train, y_test = train_test_split(X, y, test_size=0.20, random_state=42)"
   ]
  },
  {
   "cell_type": "code",
   "execution_count": 11,
   "metadata": {
    "collapsed": true,
    "deletable": true,
    "editable": true
   },
   "outputs": [],
   "source": [
    "def plot_confusion_matrix(cm,\n",
    "                          normalize=False,\n",
    "                          title='Confusion matrix',\n",
    "                          cmap=plt.cm.Blues):\n",
    "    \"\"\"\n",
    "    This function prints and plots the confusion matrix.\n",
    "    Normalization can be applied by setting `normalize=True`.\n",
    "    \"\"\"\n",
    "    plt.imshow(cm, interpolation='nearest', cmap=cmap)\n",
    "    plt.title(title)\n",
    "    plt.colorbar()\n",
    "\n",
    "    if normalize:\n",
    "        cm = cm.astype('float') / cm.sum(axis=1)[:, np.newaxis]\n",
    "        print(\"Normalized confusion matrix\")\n",
    "    else:\n",
    "        print('Confusion matrix, without normalization')\n",
    "\n",
    "    print(cm)\n",
    "\n",
    "    thresh = cm.max() / 2.\n",
    "    for i, j in itertools.product(range(cm.shape[0]), range(cm.shape[1])):\n",
    "        plt.text(j, i, cm[i, j],\n",
    "                 horizontalalignment=\"center\",\n",
    "                 color=\"white\" if cm[i, j] > thresh else \"black\")\n",
    "\n",
    "    plt.tight_layout()\n",
    "    plt.ylabel('True label')\n",
    "    plt.xlabel('Predicted label')"
   ]
  },
  {
   "cell_type": "markdown",
   "metadata": {
    "deletable": true,
    "editable": true
   },
   "source": [
    "# Random Forest"
   ]
  },
  {
   "cell_type": "code",
   "execution_count": 12,
   "metadata": {
    "collapsed": true,
    "deletable": true,
    "editable": true
   },
   "outputs": [],
   "source": [
    "rf = RandomForestClassifier(n_estimators=16)"
   ]
  },
  {
   "cell_type": "code",
   "execution_count": 13,
   "metadata": {
    "collapsed": false,
    "deletable": true,
    "editable": true
   },
   "outputs": [
    {
     "name": "stderr",
     "output_type": "stream",
     "text": [
      "/data/vidora/pyvidora/venv/local/lib/python2.7/site-packages/sklearn/utils/deprecation.py:70: DeprecationWarning: Function transform is deprecated; Support to use estimators as feature selectors will be removed in version 0.19. Use SelectFromModel instead.\n",
      "  warnings.warn(msg, category=DeprecationWarning)\n"
     ]
    },
    {
     "data": {
      "text/plain": [
       "array([[  1.00000000e+00,   0.00000000e+00,   1.00000000e+00,\n",
       "          1.00601514e+09],\n",
       "       [  1.10000000e+01,   6.00000000e+00,   5.00000000e+00,\n",
       "          1.36659342e+09],\n",
       "       [  3.70000000e+01,   2.20000000e+01,   1.50000000e+01,\n",
       "          1.45778298e+09],\n",
       "       ..., \n",
       "       [  7.00000000e+00,   4.00000000e+00,   3.00000000e+00,\n",
       "          9.81802140e+08],\n",
       "       [  0.00000000e+00,   0.00000000e+00,   0.00000000e+00,\n",
       "          1.01379048e+09],\n",
       "       [  5.50000000e+01,   1.30000000e+01,   4.20000000e+01,\n",
       "          1.46265048e+09]])"
      ]
     },
     "execution_count": 13,
     "metadata": {},
     "output_type": "execute_result"
    }
   ],
   "source": [
    "rf.fit_transform(X_train, y_train)"
   ]
  },
  {
   "cell_type": "code",
   "execution_count": 14,
   "metadata": {
    "collapsed": true,
    "deletable": true,
    "editable": true
   },
   "outputs": [],
   "source": [
    "pred = rf.predict(X_test)"
   ]
  },
  {
   "cell_type": "code",
   "execution_count": 15,
   "metadata": {
    "collapsed": false,
    "deletable": true,
    "editable": true,
    "scrolled": true
   },
   "outputs": [
    {
     "data": {
      "text/plain": [
       "0.75898197583396898"
      ]
     },
     "execution_count": 15,
     "metadata": {},
     "output_type": "execute_result"
    }
   ],
   "source": [
    "score = accuracy_score(y_test, pred)\n",
    "score"
   ]
  },
  {
   "cell_type": "code",
   "execution_count": 16,
   "metadata": {
    "collapsed": false,
    "deletable": true,
    "editable": true,
    "scrolled": false
   },
   "outputs": [
    {
     "name": "stdout",
     "output_type": "stream",
     "text": [
      "Confusion matrix, without normalization\n",
      "[[4480    7   24  653    0    0    0    0    0    0    0  120    0    0\n",
      "   220]\n",
      " [   1 6110    4    2   18   45    4    0    7    0    0   32    0    2\n",
      "   807]\n",
      " [  49    9  110   74    0    0    0    0    0    0    0    2    0    0\n",
      "    53]\n",
      " [ 837    5   32 2525    0    0    0    0    0    0    0   51    0    0\n",
      "   505]\n",
      " [   0   50    0    0    2    9    0    0    1    0    0    0    0    1\n",
      "     0]\n",
      " [   0  136    1    0    6  250    0    0    0    0    0    0    0    0\n",
      "     0]\n",
      " [   0   15    2    0    0    0    1    0    0    0    0    0    0    0\n",
      "     0]\n",
      " [   0    7    0    0    0    0    0    0    0    0    0    0    0    0\n",
      "     0]\n",
      " [   0   22    0    0    4    1    0    0    0    0    0    0    0    0\n",
      "     0]\n",
      " [   0    0    0    0    0    0    0    0    0  197    0    0    0    0\n",
      "     0]\n",
      " [   0    0    1    0    0    0    0    0    0    0    0    0    0    0\n",
      "     0]\n",
      " [ 176   32    2   37    0    0    0    0    0    0    0  464    0    0\n",
      "   158]\n",
      " [   0    1    0    0    0    0    0    0    0    0    0    0    0    0\n",
      "     0]\n",
      " [   0   20    0    0    0    0    0    0    0    0    0    0    0    2\n",
      "     0]\n",
      " [ 250  776   31  549    2    0    0    0    0    0    0  151    0    0\n",
      "  4766]]\n"
     ]
    },
    {
     "data": {
      "image/png": "[encoded data removed]",
      "text/plain": [
       "<matplotlib.figure.Figure at 0x7f4f9b9d0750>"
      ]
     },
     "metadata": {},
     "output_type": "display_data"
    }
   ],
   "source": [
    "cm1 = confusion_matrix(y_test, rf.predict(X_test))\n",
    "plot_confusion_matrix(cm1);"
   ]
  },
  {
   "cell_type": "markdown",
   "metadata": {},
   "source": [
    "# Following is ONLY modeling for Flare/No Flare"
   ]
  },
  {
   "cell_type": "code",
   "execution_count": 17,
   "metadata": {
    "collapsed": true,
    "deletable": true,
    "editable": true
   },
   "outputs": [],
   "source": [
    "X2_train, X2_test, y2_train, y2_test = train_test_split(X, y2, test_size=0.20, random_state=42)"
   ]
  },
  {
   "cell_type": "code",
   "execution_count": 18,
   "metadata": {
    "collapsed": true,
    "deletable": true,
    "editable": true
   },
   "outputs": [],
   "source": [
    "rf2 = RandomForestClassifier(n_estimators=2)"
   ]
  },
  {
   "cell_type": "code",
   "execution_count": 19,
   "metadata": {
    "collapsed": false,
    "deletable": true,
    "editable": true
   },
   "outputs": [
    {
     "name": "stderr",
     "output_type": "stream",
     "text": [
      "/data/vidora/pyvidora/venv/local/lib/python2.7/site-packages/sklearn/utils/deprecation.py:70: DeprecationWarning: Function transform is deprecated; Support to use estimators as feature selectors will be removed in version 0.19. Use SelectFromModel instead.\n",
      "  warnings.warn(msg, category=DeprecationWarning)\n"
     ]
    },
    {
     "data": {
      "text/plain": [
       "array([[  0.00000000e+00,   1.00000000e+00,   1.00601514e+09],\n",
       "       [  6.00000000e+00,   5.00000000e+00,   1.36659342e+09],\n",
       "       [  2.20000000e+01,   1.50000000e+01,   1.45778298e+09],\n",
       "       ..., \n",
       "       [  4.00000000e+00,   3.00000000e+00,   9.81802140e+08],\n",
       "       [  0.00000000e+00,   0.00000000e+00,   1.01379048e+09],\n",
       "       [  1.30000000e+01,   4.20000000e+01,   1.46265048e+09]])"
      ]
     },
     "execution_count": 19,
     "metadata": {},
     "output_type": "execute_result"
    }
   ],
   "source": [
    "rf2.fit_transform(X2_train, y2_train)"
   ]
  },
  {
   "cell_type": "code",
   "execution_count": 20,
   "metadata": {
    "collapsed": true,
    "deletable": true,
    "editable": true
   },
   "outputs": [],
   "source": [
    "pred2 = rf2.predict(X2_test)"
   ]
  },
  {
   "cell_type": "code",
   "execution_count": 21,
   "metadata": {
    "collapsed": false,
    "deletable": true,
    "editable": true
   },
   "outputs": [
    {
     "data": {
      "text/plain": [
       "0.88932600056200073"
      ]
     },
     "execution_count": 21,
     "metadata": {},
     "output_type": "execute_result"
    }
   ],
   "source": [
    "score2 = accuracy_score(y2_test, pred2)\n",
    "score2"
   ]
  },
  {
   "cell_type": "code",
   "execution_count": 22,
   "metadata": {
    "collapsed": false,
    "deletable": true,
    "editable": true
   },
   "outputs": [
    {
     "data": {
      "text/plain": [
       "0.59533245266402468"
      ]
     },
     "execution_count": 22,
     "metadata": {},
     "output_type": "execute_result"
    }
   ],
   "source": [
    "f1 = f1_score(y2_test, pred2)\n",
    "f1"
   ]
  },
  {
   "cell_type": "code",
   "execution_count": 23,
   "metadata": {
    "collapsed": false,
    "deletable": true,
    "editable": true
   },
   "outputs": [
    {
     "data": {
      "text/plain": [
       "0.70958712386284117"
      ]
     },
     "execution_count": 23,
     "metadata": {},
     "output_type": "execute_result"
    }
   ],
   "source": [
    "precision = precision_score(y2_test, pred2)\n",
    "precision"
   ]
  },
  {
   "cell_type": "code",
   "execution_count": 24,
   "metadata": {
    "collapsed": false,
    "deletable": true,
    "editable": true
   },
   "outputs": [
    {
     "data": {
      "text/plain": [
       "0.51276864728192162"
      ]
     },
     "execution_count": 24,
     "metadata": {},
     "output_type": "execute_result"
    }
   ],
   "source": [
    "recall = recall_score(y2_test, pred2)\n",
    "recall"
   ]
  },
  {
   "cell_type": "code",
   "execution_count": 25,
   "metadata": {
    "collapsed": false,
    "deletable": true,
    "editable": true
   },
   "outputs": [
    {
     "name": "stdout",
     "output_type": "stream",
     "text": [
      "Confusion matrix, without normalization\n",
      "[[20126   830]\n",
      " [ 1927  2028]]\n"
     ]
    },
    {
     "data": {
      "image/png": "[encoded data removed]",
      "text/plain": [
       "<matplotlib.figure.Figure at 0x7f4f9b55fc10>"
      ]
     },
     "metadata": {},
     "output_type": "display_data"
    }
   ],
   "source": [
    "cm1 = confusion_matrix(y2_test, rf2.predict(X2_test))\n",
    "plot_confusion_matrix(cm1);"
   ]
  },
  {
   "cell_type": "markdown",
   "metadata": {
    "deletable": true,
    "editable": true
   },
   "source": [
    "# K-means"
   ]
  },
  {
   "cell_type": "code",
   "execution_count": 26,
   "metadata": {
    "collapsed": true,
    "deletable": true,
    "editable": true
   },
   "outputs": [],
   "source": [
    "km = KMeans(n_clusters=2)"
   ]
  },
  {
   "cell_type": "code",
   "execution_count": 27,
   "metadata": {
    "collapsed": true,
    "deletable": true,
    "editable": true
   },
   "outputs": [],
   "source": [
    "pred = km.fit_predict(X2_train)"
   ]
  },
  {
   "cell_type": "code",
   "execution_count": 28,
   "metadata": {
    "collapsed": false,
    "deletable": true,
    "editable": true
   },
   "outputs": [
    {
     "data": {
      "text/plain": [
       "0.44614720700106381"
      ]
     },
     "execution_count": 28,
     "metadata": {},
     "output_type": "execute_result"
    }
   ],
   "source": [
    "score = accuracy_score(y2_train, pred)\n",
    "score"
   ]
  },
  {
   "cell_type": "code",
   "execution_count": 29,
   "metadata": {
    "collapsed": false,
    "deletable": true,
    "editable": true
   },
   "outputs": [
    {
     "data": {
      "text/plain": [
       "0.20091800240360252"
      ]
     },
     "execution_count": 29,
     "metadata": {},
     "output_type": "execute_result"
    }
   ],
   "source": [
    "f1 = f1_score(y2_train, pred)\n",
    "f1"
   ]
  },
  {
   "cell_type": "code",
   "execution_count": 30,
   "metadata": {
    "collapsed": false,
    "deletable": true,
    "editable": true
   },
   "outputs": [
    {
     "data": {
      "text/plain": [
       "0.13125236473704124"
      ]
     },
     "execution_count": 30,
     "metadata": {},
     "output_type": "execute_result"
    }
   ],
   "source": [
    "precision = precision_score(y2_train, pred)\n",
    "precision"
   ]
  },
  {
   "cell_type": "code",
   "execution_count": 31,
   "metadata": {
    "collapsed": false,
    "deletable": true,
    "editable": true
   },
   "outputs": [
    {
     "data": {
      "text/plain": [
       "0.42819231006603714"
      ]
     },
     "execution_count": 31,
     "metadata": {},
     "output_type": "execute_result"
    }
   ],
   "source": [
    "recall = recall_score(y2_train, pred)\n",
    "recall"
   ]
  },
  {
   "cell_type": "code",
   "execution_count": 32,
   "metadata": {
    "collapsed": false,
    "deletable": true,
    "editable": true
   },
   "outputs": [
    {
     "name": "stdout",
     "output_type": "stream",
     "text": [
      "Confusion matrix, without normalization\n",
      "[[ 9321 11635]\n",
      " [ 2193  1762]]\n"
     ]
    },
    {
     "data": {
      "image/png": "[encoded data removed]",
      "text/plain": [
       "<matplotlib.figure.Figure at 0x7f4f9b55fad0>"
      ]
     },
     "metadata": {},
     "output_type": "display_data"
    }
   ],
   "source": [
    "cm1 = confusion_matrix(y2_test, km.predict(X2_test))\n",
    "plot_confusion_matrix(cm1);"
   ]
  },
  {
   "cell_type": "markdown",
   "metadata": {
    "deletable": true,
    "editable": true
   },
   "source": [
    "# Support Vector Machines"
   ]
  },
  {
   "cell_type": "code",
   "execution_count": 33,
   "metadata": {
    "collapsed": true,
    "deletable": true,
    "editable": true
   },
   "outputs": [],
   "source": [
    "clf = svm.SVC()"
   ]
  },
  {
   "cell_type": "code",
   "execution_count": 34,
   "metadata": {
    "collapsed": false,
    "deletable": true,
    "editable": true
   },
   "outputs": [
    {
     "data": {
      "text/plain": [
       "SVC(C=1.0, cache_size=200, class_weight=None, coef0=0.0,\n",
       "  decision_function_shape=None, degree=3, gamma='auto', kernel='rbf',\n",
       "  max_iter=-1, probability=False, random_state=None, shrinking=True,\n",
       "  tol=0.001, verbose=False)"
      ]
     },
     "execution_count": 34,
     "metadata": {},
     "output_type": "execute_result"
    }
   ],
   "source": [
    "clf.fit(X2_train, y2_train) "
   ]
  },
  {
   "cell_type": "code",
   "execution_count": 35,
   "metadata": {
    "collapsed": true,
    "deletable": true,
    "editable": true
   },
   "outputs": [],
   "source": [
    "pred_svm = clf.predict(X2_test)"
   ]
  },
  {
   "cell_type": "code",
   "execution_count": 36,
   "metadata": {
    "collapsed": false,
    "deletable": true,
    "editable": true,
    "scrolled": true
   },
   "outputs": [
    {
     "data": {
      "text/plain": [
       "0.84151579623459516"
      ]
     },
     "execution_count": 36,
     "metadata": {},
     "output_type": "execute_result"
    }
   ],
   "source": [
    "score = accuracy_score(y2_test, pred_svm)\n",
    "score"
   ]
  },
  {
   "cell_type": "code",
   "execution_count": 38,
   "metadata": {
    "collapsed": false,
    "deletable": true,
    "editable": true
   },
   "outputs": [
    {
     "name": "stdout",
     "output_type": "stream",
     "text": [
      "Confusion matrix, without normalization\n",
      "[[20953     3]\n",
      " [ 3945    10]]\n"
     ]
    },
    {
     "data": {
      "image/png": "[encoded data removed]",
      "text/plain": [
       "<matplotlib.figure.Figure at 0x7f4f9b8843d0>"
      ]
     },
     "metadata": {},
     "output_type": "display_data"
    }
   ],
   "source": [
    "cm1 = confusion_matrix(y2_test, pred_svm)\n",
    "plot_confusion_matrix(cm1);"
   ]
  },
  {
   "cell_type": "code",
   "execution_count": null,
   "metadata": {
    "collapsed": true,
    "deletable": true,
    "editable": true
   },
   "outputs": [],
   "source": []
  }
 ],
 "metadata": {
  "kernelspec": {
   "display_name": "Python [conda env:DSCI6007]",
   "language": "python",
   "name": "conda-env-DSCI6007-py"
  },
  "language_info": {
   "codemirror_mode": {
    "name": "ipython",
    "version": 2
   },
   "file_extension": ".py",
   "mimetype": "text/x-python",
   "name": "python",
   "nbconvert_exporter": "python",
   "pygments_lexer": "ipython2",
   "version": "2.7.12"
  }
 },
 "nbformat": 4,
 "nbformat_minor": 2
}
